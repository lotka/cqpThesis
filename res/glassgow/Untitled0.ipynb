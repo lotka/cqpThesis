{
 "metadata": {
  "name": ""
 },
 "nbformat": 3,
 "nbformat_minor": 0,
 "worksheets": [
  {
   "cells": [
    {
     "cell_type": "code",
     "collapsed": false,
     "input": [
      "    import numpy as np\n",
      "    import matplotlib.pylab as plt\n",
      "    def convert_mW_dBm(x):\n",
      "        return 10*np.log10(x)+30\n",
      "    \n",
      "    def make_dBm_spectrum(spectrumFileName):\n",
      "        data = np.loadtxt(spectrumFileName,delimiter=',')\n",
      "        data[:,1]=convert_mW_dBm(data[:,1])\n",
      "        data[:,2]=convert_mW_dBm(data[:,2])\n",
      "        np.savetxt('dBm.csv',data)\n",
      "        return\n",
      "        "
     ],
     "language": "python",
     "metadata": {},
     "outputs": [],
     "prompt_number": 24
    },
    {
     "cell_type": "code",
     "collapsed": false,
     "input": [
      "make_dBm_spectrum('/home/luka/Dropbox/cqp/report/thesis/res/glassgow/C17/Spectrum1530-1560_C17_25.0C.csv')"
     ],
     "language": "python",
     "metadata": {},
     "outputs": [
      {
       "output_type": "stream",
       "stream": "stderr",
       "text": [
        "-c:4: RuntimeWarning: divide by zero encountered in log10\n"
       ]
      }
     ],
     "prompt_number": 29
    },
    {
     "cell_type": "code",
     "collapsed": false,
     "input": [],
     "language": "python",
     "metadata": {},
     "outputs": []
    }
   ],
   "metadata": {}
  }
 ]
}