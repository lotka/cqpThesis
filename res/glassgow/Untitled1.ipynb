{
 "metadata": {
  "name": ""
 },
 "nbformat": 3,
 "nbformat_minor": 0,
 "worksheets": [
  {
   "cells": [
    {
     "cell_type": "code",
     "collapsed": false,
     "input": [
      "import numpy as np\n",
      "import matplotlib.pylab as plt\n",
      "\n",
      "data = np.array([[ 9.86565504e-01, 9.75776161e-01 ],[ 9.72109069e-01, 9.82248274e-01 ],[ 9.11295115e-01, 9.73735451e-01 ]])\n",
      "\n",
      "plt.figure()\n",
      "num = [0,1,2]\n",
      "r = data[:,0]\n",
      "tau = data[:,1]\n",
      "plt.plot(num,r,label='r')\n",
      "plt.plot(num,tau,label='tau')\n",
      "print r.mean(),tau.mean()\n",
      "plt.show()"
     ],
     "language": "python",
     "metadata": {},
     "outputs": [
      {
       "output_type": "stream",
       "stream": "stdout",
       "text": [
        "0.956656562667 0.977253295333\n"
       ]
      }
     ],
     "prompt_number": 18
    },
    {
     "cell_type": "code",
     "collapsed": false,
     "input": [],
     "language": "python",
     "metadata": {},
     "outputs": []
    }
   ],
   "metadata": {}
  }
 ]
}