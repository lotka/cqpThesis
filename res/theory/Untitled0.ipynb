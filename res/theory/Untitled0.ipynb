{
 "metadata": {
  "name": ""
 },
 "nbformat": 3,
 "nbformat_minor": 0,
 "worksheets": [
  {
   "cells": [
    {
     "cell_type": "code",
     "collapsed": false,
     "input": [
      "# Initialisation\n",
      "%matplotlib inline\n",
      "import numpy as np\n",
      "import matplotlib.pyplot as plt\n",
      "import matplotlib.image as mpimg\n",
      "import os\n",
      "import scipy.ndimage\n",
      "import scipy.optimize as optimization\n",
      "\n",
      "seperableGauss = lambda x,y: np.exp(-(x)**2)*np.exp(-(y)**2)\n",
      "seperableXY = lambda x,y: (x*y)/1000000000\n",
      "seperableSin = lambda x,y: (np.sin(x)*np.sin(y))**2\n",
      "seperableLorentz = lambda x,y: 1/((x**2 + 1)*(y**2 + 1))\n",
      "nonSeperableGauss = lambda x,y: np.exp(-(x+y)**2)\n",
      "nonSeperableXY = lambda x,y: (x+y)/10\n",
      "nonSeperableSin = lambda x,y: (np.sin(x+y))**2\n",
      "nonSeperableLorentz = lambda x,y: 1/((x+y)**2 + 1)\n",
      "nonSeperableWeird = lambda x,y: nonSeperableGauss(x,y)+nonSeperableXY(x,y)+nonSeperableSin(x,y)+nonSeperableLorentz(x,y)\n",
      "\n",
      "def calculateKmin(matrix):\n",
      "\treturn 1/(np.trace((matrix.T*matrix)*(matrix.T*matrix))/np.power(np.trace(matrix.T*matrix),2))\n",
      "\n",
      "def getPurityImag(array):\n",
      "    array = np.sqrt(abs(array))\n",
      "    M = np.matrix(array)\n",
      "    CONJ = M.T\n",
      "    return (np.trace((CONJ*M)*(CONJ*M))/np.power(np.trace(CONJ*M),2))\n",
      "\n",
      "def getSchmidt(array):\n",
      "\tarray = np.sqrt(abs(array))\n",
      "\tM = np.matrix(array)\n",
      "\tKmin = calculateKmin(M)\n",
      "\treturn Kmin\n",
      "\n",
      "def getPurity(array):\n",
      "    return 1.0/getSchmidt(array)\n",
      "\n",
      "u = np.loadtxt('realVals.txt',delimiter=' ')\n",
      "v = np.loadtxt('imVals.txt',delimiter=' ')\n",
      "phi = u*np.exp(1j*v)\n",
      "\n",
      "\n",
      "\n",
      "\n",
      "print getPurityImag(u)\n",
      "print getPurityImag(v)\n",
      "print getPurityImag(phi)\n",
      "\n"
     ],
     "language": "python",
     "metadata": {},
     "outputs": [
      {
       "output_type": "stream",
       "stream": "stdout",
       "text": [
        "0.941565617537\n",
        "0.88621613809\n",
        "0.941565617537"
       ]
      },
      {
       "output_type": "stream",
       "stream": "stdout",
       "text": [
        "\n"
       ]
      }
     ],
     "prompt_number": 13
    }
   ],
   "metadata": {}
  }
 ]
}